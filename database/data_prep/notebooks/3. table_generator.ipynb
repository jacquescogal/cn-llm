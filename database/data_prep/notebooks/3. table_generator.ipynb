{
 "cells": [
  {
   "cell_type": "code",
   "execution_count": 13,
   "metadata": {},
   "outputs": [],
   "source": [
    "import pandas as pd\n",
    "char_df = pd.read_csv(\"../dataset/clean/hsk3_all_characters.csv\", index_col=0)\n",
    "compounds_df = pd.read_csv(\"../dataset/clean/hsk3_all_compounds.csv\", index_col=0)"
   ]
  },
  {
   "cell_type": "code",
   "execution_count": 15,
   "metadata": {},
   "outputs": [
    {
     "data": {
      "text/html": [
       "<div>\n",
       "<style scoped>\n",
       "    .dataframe tbody tr th:only-of-type {\n",
       "        vertical-align: middle;\n",
       "    }\n",
       "\n",
       "    .dataframe tbody tr th {\n",
       "        vertical-align: top;\n",
       "    }\n",
       "\n",
       "    .dataframe thead th {\n",
       "        text-align: right;\n",
       "    }\n",
       "</style>\n",
       "<table border=\"1\" class=\"dataframe\">\n",
       "  <thead>\n",
       "    <tr style=\"text-align: right;\">\n",
       "      <th></th>\n",
       "      <th>hanzi</th>\n",
       "      <th>pinyin</th>\n",
       "      <th>meaning</th>\n",
       "      <th>hsk_level</th>\n",
       "      <th>is_compound</th>\n",
       "    </tr>\n",
       "  </thead>\n",
       "  <tbody>\n",
       "    <tr>\n",
       "      <th>1</th>\n",
       "      <td>的</td>\n",
       "      <td>de</td>\n",
       "      <td>possessive, adjectival suffix</td>\n",
       "      <td>1</td>\n",
       "      <td>0</td>\n",
       "    </tr>\n",
       "    <tr>\n",
       "      <th>2</th>\n",
       "      <td>一</td>\n",
       "      <td>yī</td>\n",
       "      <td>one; a, an; alone</td>\n",
       "      <td>1</td>\n",
       "      <td>0</td>\n",
       "    </tr>\n",
       "    <tr>\n",
       "      <th>3</th>\n",
       "      <td>是</td>\n",
       "      <td>shì</td>\n",
       "      <td>indeed, yes, right; to be; demonstrative prono...</td>\n",
       "      <td>1</td>\n",
       "      <td>0</td>\n",
       "    </tr>\n",
       "    <tr>\n",
       "      <th>4</th>\n",
       "      <td>不</td>\n",
       "      <td>bù</td>\n",
       "      <td>no, not; un-; negative prefix</td>\n",
       "      <td>1</td>\n",
       "      <td>0</td>\n",
       "    </tr>\n",
       "    <tr>\n",
       "      <th>5</th>\n",
       "      <td>了</td>\n",
       "      <td>le</td>\n",
       "      <td>to finish; particle of completed action</td>\n",
       "      <td>1</td>\n",
       "      <td>0</td>\n",
       "    </tr>\n",
       "  </tbody>\n",
       "</table>\n",
       "</div>"
      ],
      "text/plain": [
       "  hanzi pinyin                                            meaning  hsk_level  \\\n",
       "1     的     de                      possessive, adjectival suffix          1   \n",
       "2     一     yī                                  one; a, an; alone          1   \n",
       "3     是    shì  indeed, yes, right; to be; demonstrative prono...          1   \n",
       "4     不     bù                      no, not; un-; negative prefix          1   \n",
       "5     了     le            to finish; particle of completed action          1   \n",
       "\n",
       "   is_compound  \n",
       "1            0  \n",
       "2            0  \n",
       "3            0  \n",
       "4            0  \n",
       "5            0  "
      ]
     },
     "execution_count": 15,
     "metadata": {},
     "output_type": "execute_result"
    }
   ],
   "source": [
    "# combine the two dfs\n",
    "# id, hanzi,pinyin,meaning,hsk_level\n",
    "combined_rows = []\n",
    "for tup in char_df.itertuples():\n",
    "    combined_rows.append({\n",
    "        \"hanzi\": tup.char_hanzi,\n",
    "        \"pinyin\": tup.pinyin,\n",
    "        \"meaning\": tup.meaning,\n",
    "        \"hsk_level\": tup.hsk_level,\n",
    "        \"is_compound\": 0\n",
    "    })\n",
    "for i in compounds_df.itertuples():\n",
    "    combined_rows.append({\n",
    "        \"hanzi\": i.compound_hanzi,\n",
    "        \"pinyin\": i.pinyin,\n",
    "        \"meaning\": i.meaning,\n",
    "        \"hsk_level\": i.hsk_level,\n",
    "        \"is_compound\": 1\n",
    "    })\n",
    "\n",
    "combined_df = pd.DataFrame(combined_rows)\n",
    "combined_df.index += 1\n",
    "combined_df.head()"
   ]
  },
  {
   "cell_type": "code",
   "execution_count": 16,
   "metadata": {},
   "outputs": [],
   "source": [
    "# O(n**2) search for association\n",
    "sorted_word_array = []\n",
    "for tup in combined_df.itertuples(index=True):\n",
    "    sorted_word_array.append((tup.Index, tup.hanzi))\n",
    "sorted_word_array.sort(key=lambda x: -len(x[1]))\n",
    "map_rows = []\n",
    "for i in range(len(sorted_word_array)):\n",
    "    child_hanzi = sorted_word_array[i][1]\n",
    "    for j in range(i):\n",
    "        parent_hanzi = sorted_word_array[j][1]\n",
    "        if child_hanzi in parent_hanzi:\n",
    "            map_rows.append({\n",
    "                \"parent_id\": sorted_word_array[j][0],\n",
    "                \"child_id\": sorted_word_array[i][0]\n",
    "            })\n",
    "map_df = pd.DataFrame(map_rows)"
   ]
  },
  {
   "cell_type": "code",
   "execution_count": 17,
   "metadata": {},
   "outputs": [],
   "source": [
    "combined_df.to_csv(\"../dataset/clean/hsk3_all_words.csv\", index=True, index_label=\"word_id\")\n",
    "map_df.to_csv(\"../dataset/clean/hsk3_word_map.csv\", index=False)"
   ]
  }
 ],
 "metadata": {
  "kernelspec": {
   "display_name": "env",
   "language": "python",
   "name": "python3"
  },
  "language_info": {
   "codemirror_mode": {
    "name": "ipython",
    "version": 3
   },
   "file_extension": ".py",
   "mimetype": "text/x-python",
   "name": "python",
   "nbconvert_exporter": "python",
   "pygments_lexer": "ipython3",
   "version": "3.12.2"
  }
 },
 "nbformat": 4,
 "nbformat_minor": 2
}
