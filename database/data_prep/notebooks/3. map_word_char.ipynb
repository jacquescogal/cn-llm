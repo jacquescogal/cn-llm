{
 "cells": [
  {
   "cell_type": "code",
   "execution_count": 4,
   "metadata": {},
   "outputs": [],
   "source": [
    "import pandas as pd\n",
    "char_df = pd.read_csv(\"../dataset/clean/hsk3_all_characters.csv\", index_col=0)\n",
    "word_df = pd.read_csv(\"../dataset/clean/hsk3_all_words.csv\", index_col=0)"
   ]
  },
  {
   "cell_type": "code",
   "execution_count": 5,
   "metadata": {},
   "outputs": [],
   "source": [
    "char_word_map = {} # char -> List(word_index with char)\n",
    "for tup in word_df.itertuples():\n",
    "    for char in set(tup.word_hanzi):\n",
    "        char_word_map.setdefault(char, []).append(tup.Index)\n",
    "\n",
    "char_word_rows = []\n",
    "for tup in char_df.itertuples():\n",
    "    for word_id in char_word_map.get(tup.char_hanzi, []):\n",
    "        char_word_rows.append({\n",
    "            \"char_id\": tup.Index,\n",
    "            \"word_id\": word_id\n",
    "        })\n",
    "char_word_tab_df = pd.DataFrame(char_word_rows)"
   ]
  },
  {
   "cell_type": "code",
   "execution_count": 6,
   "metadata": {},
   "outputs": [
    {
     "name": "stdout",
     "output_type": "stream",
     "text": [
      "8883\n"
     ]
    }
   ],
   "source": [
    "print(len(char_word_tab_df))\n",
    "char_word_tab_df.to_csv(\"../dataset/clean/hsk3_char_word_map_tab.csv\", index=False)"
   ]
  }
 ],
 "metadata": {
  "kernelspec": {
   "display_name": "env",
   "language": "python",
   "name": "python3"
  },
  "language_info": {
   "codemirror_mode": {
    "name": "ipython",
    "version": 3
   },
   "file_extension": ".py",
   "mimetype": "text/x-python",
   "name": "python",
   "nbconvert_exporter": "python",
   "pygments_lexer": "ipython3",
   "version": "3.12.2"
  }
 },
 "nbformat": 4,
 "nbformat_minor": 2
}
